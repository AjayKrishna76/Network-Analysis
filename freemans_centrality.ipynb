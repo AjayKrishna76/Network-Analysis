{
 "cells": [
  {
   "cell_type": "code",
   "execution_count": 1,
   "id": "7c3928aa",
   "metadata": {},
   "outputs": [],
   "source": [
    "import networkx as nx\n",
    "import numpy as np"
   ]
  },
  {
   "cell_type": "markdown",
   "id": "2b32f120",
   "metadata": {},
   "source": [
    "### ADJACENCY MATRIX A:"
   ]
  },
  {
   "cell_type": "code",
   "execution_count": 2,
   "id": "d1f32c5b",
   "metadata": {},
   "outputs": [
    {
     "name": "stdout",
     "output_type": "stream",
     "text": [
      "[[0 1 0 0 1 0 0 0]\n",
      " [1 0 1 0 0 1 0 0]\n",
      " [0 1 0 1 0 0 1 0]\n",
      " [0 0 1 0 0 0 0 1]\n",
      " [1 0 0 0 0 1 0 0]\n",
      " [0 1 0 0 1 0 1 0]\n",
      " [0 0 1 0 0 1 0 1]\n",
      " [0 0 0 1 0 0 1 0]]\n"
     ]
    }
   ],
   "source": [
    "A = np.matrix('0,1,0,0,1,0,0,0;1,0,1,0,0,1,0,0;0,1,0,1,0,0,1,0;0,0,1,0,0,0,0,1;1,0,0,0,0,1,0,0;0,1,0,0,1,0,1,0;0,0,1,0,0,1,0,1;0,0,0,1,0,0,1,0')\n",
    "print(A)"
   ]
  },
  {
   "cell_type": "markdown",
   "id": "1d5f4128",
   "metadata": {},
   "source": [
    "### Drawing graph from the Adjacency matrix"
   ]
  },
  {
   "cell_type": "code",
   "execution_count": 3,
   "id": "d0382d91",
   "metadata": {},
   "outputs": [
    {
     "data": {
      "image/png": "[encoded data removed]",
      "text/plain": [
       "<Figure size 432x288 with 1 Axes>"
      ]
     },
     "metadata": {},
     "output_type": "display_data"
    }
   ],
   "source": [
    "G = nx.from_numpy_matrix(A)  \n",
    "nx.draw(G, with_labels=True)"
   ]
  },
  {
   "cell_type": "markdown",
   "id": "f9c0c3ea",
   "metadata": {},
   "source": [
    "## Betweenness Centrality of the graph G"
   ]
  },
  {
   "cell_type": "code",
   "execution_count": 4,
   "id": "0987a74e",
   "metadata": {},
   "outputs": [
    {
     "data": {
      "text/plain": [
       "{0: 1.0833333333333335,\n",
       " 1: 5.916666666666667,\n",
       " 2: 5.916666666666667,\n",
       " 3: 1.0833333333333335,\n",
       " 4: 1.0833333333333335,\n",
       " 5: 5.916666666666667,\n",
       " 6: 5.916666666666666,\n",
       " 7: 1.0833333333333335}"
      ]
     },
     "execution_count": 4,
     "metadata": {},
     "output_type": "execute_result"
    }
   ],
   "source": [
    "b_c=nx.betweenness_centrality(G, k=None, normalized=False, weight=None, endpoints=False, seed=None)\n",
    "b_c"
   ]
  },
  {
   "cell_type": "markdown",
   "id": "53477f0f",
   "metadata": {},
   "source": [
    "## Closeness Centrality of the graph G"
   ]
  },
  {
   "cell_type": "code",
   "execution_count": 5,
   "id": "a90dc1d3",
   "metadata": {},
   "outputs": [
    {
     "data": {
      "text/plain": [
       "{0: 0.4375,\n",
       " 1: 0.5833333333333334,\n",
       " 2: 0.5833333333333334,\n",
       " 3: 0.4375,\n",
       " 4: 0.4375,\n",
       " 5: 0.5833333333333334,\n",
       " 6: 0.5833333333333334,\n",
       " 7: 0.4375}"
      ]
     },
     "execution_count": 5,
     "metadata": {},
     "output_type": "execute_result"
    }
   ],
   "source": [
    "c_c=nx.closeness_centrality(G, u=None, distance=None, wf_improved=True)\n",
    "c_c"
   ]
  },
  {
   "cell_type": "markdown",
   "id": "1718e535",
   "metadata": {},
   "source": [
    "## Degree Centrality of the graph G"
   ]
  },
  {
   "cell_type": "markdown",
   "id": "3ed8e02c",
   "metadata": {},
   "source": [
    "### With networkx"
   ]
  },
  {
   "cell_type": "code",
   "execution_count": 6,
   "id": "22744ba4",
   "metadata": {},
   "outputs": [
    {
     "name": "stdout",
     "output_type": "stream",
     "text": [
      "Degree Centalities for the graph G is: \n",
      " {0: 0.2857142857142857, 1: 0.42857142857142855, 2: 0.42857142857142855, 3: 0.2857142857142857, 4: 0.2857142857142857, 5: 0.42857142857142855, 6: 0.42857142857142855, 7: 0.2857142857142857}\n"
     ]
    }
   ],
   "source": [
    "d=nx.degree_centrality(G)\n",
    "print(\"Degree Centalities for the graph G is: \\n\",d)"
   ]
  },
  {
   "cell_type": "markdown",
   "id": "a5db736a",
   "metadata": {},
   "source": [
    "### Without networkx"
   ]
  },
  {
   "cell_type": "code",
   "execution_count": 7,
   "id": "bd35ed6b",
   "metadata": {},
   "outputs": [],
   "source": [
    "# creating a copy of Adjacency matrix:\n",
    "B = A.copy()\n",
    "\n",
    "def summ(graph, a):\n",
    "    sum_deg = 0\n",
    "    # Summing all columns in the row\n",
    "    for column in range(8):\n",
    "        sum_deg += graph[a,column]\n",
    "    return sum_deg\n",
    "\n",
    "def degCen(a):\n",
    "    sum_deg = summ(B, a)\n",
    "    # dividing the sum of the degree with the (n-1) nodes\n",
    "    deg_cen = (sum_deg/(8-1))\n",
    "    return deg_cen"
   ]
  },
  {
   "cell_type": "code",
   "execution_count": 8,
   "id": "aedb8859",
   "metadata": {},
   "outputs": [
    {
     "name": "stdout",
     "output_type": "stream",
     "text": [
      "Degree Centralities of the Graph G is: \n",
      " [0.2857142857142857, 0.42857142857142855, 0.42857142857142855, 0.2857142857142857, 0.2857142857142857, 0.42857142857142855, 0.42857142857142855, 0.2857142857142857]\n"
     ]
    }
   ],
   "source": [
    "d_c = [degCen(a) for a in range(8)]\n",
    "print(\"Degree Centralities of the Graph G is: \\n\", d_c)"
   ]
  },
  {
   "attachments": {
    "image.png": {
     "image/png": "[encoded data removed]"
    }
   },
   "cell_type": "markdown",
   "id": "b831689a",
   "metadata": {},
   "source": [
    "## Freemans Centrality is given by\n",
    "![image.png](attachment:image.png)"
   ]
  },
  {
   "cell_type": "markdown",
   "id": "e9ca0f76",
   "metadata": {},
   "source": [
    "**$ C_x=\\frac{\\sum_{i}\\left[{c_{cen}^\\ast-c}_{cen}(i)\\right]}{\\max g{\\sum_{i}\\left[{c_{cen}^\\ast-c}_{cen}(i)\\right]}} $**"
   ]
  },
  {
   "cell_type": "code",
   "execution_count": 9,
   "id": "6fef84d7",
   "metadata": {},
   "outputs": [
    {
     "name": "stdout",
     "output_type": "stream",
     "text": [
      "Maximum value of degree centrality is: 0.42857142857142855\n"
     ]
    }
   ],
   "source": [
    "d_max=max(d.values())\n",
    "print('Maximum value of degree centrality is:',d_max)"
   ]
  },
  {
   "cell_type": "code",
   "execution_count": 10,
   "id": "6d10adfd",
   "metadata": {},
   "outputs": [
    {
     "data": {
      "text/plain": [
       "[0.14285714285714285,\n",
       " 0.0,\n",
       " 0.0,\n",
       " 0.14285714285714285,\n",
       " 0.14285714285714285,\n",
       " 0.0,\n",
       " 0.0,\n",
       " 0.14285714285714285]"
      ]
     },
     "execution_count": 10,
     "metadata": {},
     "output_type": "execute_result"
    }
   ],
   "source": [
    "values=[]\n",
    "for i in range(8):\n",
    "    s=d_max-d[i]\n",
    "    values.append(s)   \n",
    "values"
   ]
  },
  {
   "cell_type": "code",
   "execution_count": 11,
   "id": "760afbe9",
   "metadata": {},
   "outputs": [
    {
     "data": {
      "text/plain": [
       "0.5714285714285714"
      ]
     },
     "execution_count": 11,
     "metadata": {},
     "output_type": "execute_result"
    }
   ],
   "source": [
    "numerator=sum(values)\n",
    "numerator"
   ]
  },
  {
   "cell_type": "markdown",
   "id": "412e5ce4",
   "metadata": {},
   "source": [
    "### Denominator is for a star graph with 8 vertices"
   ]
  },
  {
   "cell_type": "code",
   "execution_count": 12,
   "id": "aa679a68",
   "metadata": {},
   "outputs": [
    {
     "data": {
      "image/png": "[encoded data removed]",
      "text/plain": [
       "<Figure size 432x288 with 1 Axes>"
      ]
     },
     "metadata": {},
     "output_type": "display_data"
    }
   ],
   "source": [
    "G1 = nx.star_graph(7)\n",
    "nx.draw(G1, node_color = 'green',node_size = 1000,with_labels = True)"
   ]
  },
  {
   "cell_type": "code",
   "execution_count": 13,
   "id": "3dede5d0",
   "metadata": {},
   "outputs": [
    {
     "data": {
      "text/plain": [
       "{0: 1.0,\n",
       " 1: 0.14285714285714285,\n",
       " 2: 0.14285714285714285,\n",
       " 3: 0.14285714285714285,\n",
       " 4: 0.14285714285714285,\n",
       " 5: 0.14285714285714285,\n",
       " 6: 0.14285714285714285,\n",
       " 7: 0.14285714285714285}"
      ]
     },
     "execution_count": 13,
     "metadata": {},
     "output_type": "execute_result"
    }
   ],
   "source": [
    "d1=nx.degree_centrality(G1)\n",
    "d1"
   ]
  },
  {
   "cell_type": "code",
   "execution_count": 14,
   "id": "d4bc69b7",
   "metadata": {},
   "outputs": [
    {
     "data": {
      "text/plain": [
       "1.0"
      ]
     },
     "execution_count": 14,
     "metadata": {},
     "output_type": "execute_result"
    }
   ],
   "source": [
    "d1_max=max(d1.values())\n",
    "d1_max"
   ]
  },
  {
   "cell_type": "code",
   "execution_count": 15,
   "id": "fbd0a4aa",
   "metadata": {},
   "outputs": [
    {
     "data": {
      "text/plain": [
       "[0.0,\n",
       " 0.8571428571428572,\n",
       " 0.8571428571428572,\n",
       " 0.8571428571428572,\n",
       " 0.8571428571428572,\n",
       " 0.8571428571428572,\n",
       " 0.8571428571428572,\n",
       " 0.8571428571428572]"
      ]
     },
     "execution_count": 15,
     "metadata": {},
     "output_type": "execute_result"
    }
   ],
   "source": [
    "values1=[]\n",
    "for i in range(8):\n",
    "    s1=d1_max-d1[i]\n",
    "    values1.append(s1)   \n",
    "values1"
   ]
  },
  {
   "cell_type": "code",
   "execution_count": 16,
   "id": "0544d87a",
   "metadata": {},
   "outputs": [
    {
     "data": {
      "text/plain": [
       "0.8571428571428572"
      ]
     },
     "execution_count": 16,
     "metadata": {},
     "output_type": "execute_result"
    }
   ],
   "source": [
    "denominator=max(values1)\n",
    "denominator"
   ]
  },
  {
   "cell_type": "code",
   "execution_count": 17,
   "id": "ea14b445",
   "metadata": {},
   "outputs": [
    {
     "data": {
      "text/plain": [
       "0.6666666666666666"
      ]
     },
     "execution_count": 17,
     "metadata": {},
     "output_type": "execute_result"
    }
   ],
   "source": [
    "freeman_centrality=numerator/denominator\n",
    "freeman_centrality"
   ]
  }
 ],
 "metadata": {
  "kernelspec": {
   "display_name": "Python 3 (ipykernel)",
   "language": "python",
   "name": "python3"
  },
  "language_info": {
   "codemirror_mode": {
    "name": "ipython",
    "version": 3
   },
   "file_extension": ".py",
   "mimetype": "text/x-python",
   "name": "python",
   "nbconvert_exporter": "python",
   "pygments_lexer": "ipython3",
   "version": "3.9.7"
  }
 },
 "nbformat": 4,
 "nbformat_minor": 5
}
